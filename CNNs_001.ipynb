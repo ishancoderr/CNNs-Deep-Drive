{
  "nbformat": 4,
  "nbformat_minor": 0,
  "metadata": {
    "colab": {
      "provenance": [],
      "authorship_tag": "ABX9TyM96rqtf4MClObgHrvD6tIX",
      "include_colab_link": true
    },
    "kernelspec": {
      "name": "python3",
      "display_name": "Python 3"
    },
    "language_info": {
      "name": "python"
    }
  },
  "cells": [
    {
      "cell_type": "markdown",
      "metadata": {
        "id": "view-in-github",
        "colab_type": "text"
      },
      "source": [
        "<a href=\"https://colab.research.google.com/github/ishancoderr/CNNs-Deep-Drive/blob/main/CNNs_001.ipynb\" target=\"_parent\"><img src=\"https://colab.research.google.com/assets/colab-badge.svg\" alt=\"Open In Colab\"/></a>"
      ]
    },
    {
      "cell_type": "markdown",
      "source": [
        "Image covert to array ,Structure will lost. hence image see like string array.But in CNN image pass as 2D matrix.It protects image as it is.\n",
        "\n",
        "**Single Layer fully connected has more power than Single Layer converlution.** \n",
        "\n",
        "\n",
        "\n",
        "If make a kernel manually for the model .It is very difficult to achived manually.It will worlk only for specific task.But computer can easly find what is the best kernal select all posibilities.These kernels act like filters. \n"
      ],
      "metadata": {
        "id": "zHpD57643rJF"
      }
    },
    {
      "cell_type": "markdown",
      "source": [
        "**Converlution Layer**\n",
        "\n",
        "A Layer in which we search for a pattern"
      ],
      "metadata": {
        "id": "uRMShi85pdeM"
      }
    },
    {
      "cell_type": "markdown",
      "source": [
        "**Pooling Layer**\n",
        "\n"
      ],
      "metadata": {
        "id": "0mYKVEBdp1SL"
      }
    },
    {
      "cell_type": "markdown",
      "source": [
        "* Reduces the dimensionaly  \n",
        "* speeds up learning\n",
        "\n"
      ],
      "metadata": {
        "id": "wRmxY0yF-yDL"
      }
    },
    {
      "cell_type": "markdown",
      "source": [
        "eg-max pooling layer\n",
        "\n",
        "image devide 4X4 matrixes .then make choose max pixel within the matrix.\n",
        "that is 2X2 max pooling with Stride 2 "
      ],
      "metadata": {
        "id": "4_S3QbvDA9bb"
      }
    },
    {
      "cell_type": "code",
      "source": [],
      "metadata": {
        "id": "FKZ28Zik3qg-"
      },
      "execution_count": null,
      "outputs": []
    }
  ]
}