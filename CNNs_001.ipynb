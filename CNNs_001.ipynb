{
  "nbformat": 4,
  "nbformat_minor": 0,
  "metadata": {
    "colab": {
      "provenance": [],
      "authorship_tag": "ABX9TyPlSXLNKZrItTF0YjKk+5K/",
      "include_colab_link": true
    },
    "kernelspec": {
      "name": "python3",
      "display_name": "Python 3"
    },
    "language_info": {
      "name": "python"
    },
    "widgets": {
      "application/vnd.jupyter.widget-state+json": {
        "651717e4770d49918d75d3df454a4e16": {
          "model_module": "@jupyter-widgets/controls",
          "model_name": "HBoxModel",
          "model_module_version": "1.5.0",
          "state": {
            "_dom_classes": [],
            "_model_module": "@jupyter-widgets/controls",
            "_model_module_version": "1.5.0",
            "_model_name": "HBoxModel",
            "_view_count": null,
            "_view_module": "@jupyter-widgets/controls",
            "_view_module_version": "1.5.0",
            "_view_name": "HBoxView",
            "box_style": "",
            "children": [
              "IPY_MODEL_d7a160c4a91d4bd99266a4476373025e",
              "IPY_MODEL_c819e161b7fd4cc984637a4ba6964861",
              "IPY_MODEL_3d15448e2aa84038825ba5027dc46af1"
            ],
            "layout": "IPY_MODEL_00c31abce70f4ca5978ad20b1716f3d3"
          }
        },
        "d7a160c4a91d4bd99266a4476373025e": {
          "model_module": "@jupyter-widgets/controls",
          "model_name": "HTMLModel",
          "model_module_version": "1.5.0",
          "state": {
            "_dom_classes": [],
            "_model_module": "@jupyter-widgets/controls",
            "_model_module_version": "1.5.0",
            "_model_name": "HTMLModel",
            "_view_count": null,
            "_view_module": "@jupyter-widgets/controls",
            "_view_module_version": "1.5.0",
            "_view_name": "HTMLView",
            "description": "",
            "description_tooltip": null,
            "layout": "IPY_MODEL_63988d0aa24a409eb73d76e4d433258e",
            "placeholder": "​",
            "style": "IPY_MODEL_10963fcf6c10409f8c8dabe350822bc1",
            "value": "Dl Completed...: 100%"
          }
        },
        "c819e161b7fd4cc984637a4ba6964861": {
          "model_module": "@jupyter-widgets/controls",
          "model_name": "FloatProgressModel",
          "model_module_version": "1.5.0",
          "state": {
            "_dom_classes": [],
            "_model_module": "@jupyter-widgets/controls",
            "_model_module_version": "1.5.0",
            "_model_name": "FloatProgressModel",
            "_view_count": null,
            "_view_module": "@jupyter-widgets/controls",
            "_view_module_version": "1.5.0",
            "_view_name": "ProgressView",
            "bar_style": "success",
            "description": "",
            "description_tooltip": null,
            "layout": "IPY_MODEL_bf409a779af547c7b76f70db19363af0",
            "max": 5,
            "min": 0,
            "orientation": "horizontal",
            "style": "IPY_MODEL_a6834b5f775e41009e87d333945387fa",
            "value": 5
          }
        },
        "3d15448e2aa84038825ba5027dc46af1": {
          "model_module": "@jupyter-widgets/controls",
          "model_name": "HTMLModel",
          "model_module_version": "1.5.0",
          "state": {
            "_dom_classes": [],
            "_model_module": "@jupyter-widgets/controls",
            "_model_module_version": "1.5.0",
            "_model_name": "HTMLModel",
            "_view_count": null,
            "_view_module": "@jupyter-widgets/controls",
            "_view_module_version": "1.5.0",
            "_view_name": "HTMLView",
            "description": "",
            "description_tooltip": null,
            "layout": "IPY_MODEL_3a6def9902304fa5a5f251cce2174dad",
            "placeholder": "​",
            "style": "IPY_MODEL_63c4ca1105684120944c5efc40089051",
            "value": " 5/5 [00:00&lt;00:00, 14.56 file/s]"
          }
        },
        "00c31abce70f4ca5978ad20b1716f3d3": {
          "model_module": "@jupyter-widgets/base",
          "model_name": "LayoutModel",
          "model_module_version": "1.2.0",
          "state": {
            "_model_module": "@jupyter-widgets/base",
            "_model_module_version": "1.2.0",
            "_model_name": "LayoutModel",
            "_view_count": null,
            "_view_module": "@jupyter-widgets/base",
            "_view_module_version": "1.2.0",
            "_view_name": "LayoutView",
            "align_content": null,
            "align_items": null,
            "align_self": null,
            "border": null,
            "bottom": null,
            "display": null,
            "flex": null,
            "flex_flow": null,
            "grid_area": null,
            "grid_auto_columns": null,
            "grid_auto_flow": null,
            "grid_auto_rows": null,
            "grid_column": null,
            "grid_gap": null,
            "grid_row": null,
            "grid_template_areas": null,
            "grid_template_columns": null,
            "grid_template_rows": null,
            "height": null,
            "justify_content": null,
            "justify_items": null,
            "left": null,
            "margin": null,
            "max_height": null,
            "max_width": null,
            "min_height": null,
            "min_width": null,
            "object_fit": null,
            "object_position": null,
            "order": null,
            "overflow": null,
            "overflow_x": null,
            "overflow_y": null,
            "padding": null,
            "right": null,
            "top": null,
            "visibility": null,
            "width": null
          }
        },
        "63988d0aa24a409eb73d76e4d433258e": {
          "model_module": "@jupyter-widgets/base",
          "model_name": "LayoutModel",
          "model_module_version": "1.2.0",
          "state": {
            "_model_module": "@jupyter-widgets/base",
            "_model_module_version": "1.2.0",
            "_model_name": "LayoutModel",
            "_view_count": null,
            "_view_module": "@jupyter-widgets/base",
            "_view_module_version": "1.2.0",
            "_view_name": "LayoutView",
            "align_content": null,
            "align_items": null,
            "align_self": null,
            "border": null,
            "bottom": null,
            "display": null,
            "flex": null,
            "flex_flow": null,
            "grid_area": null,
            "grid_auto_columns": null,
            "grid_auto_flow": null,
            "grid_auto_rows": null,
            "grid_column": null,
            "grid_gap": null,
            "grid_row": null,
            "grid_template_areas": null,
            "grid_template_columns": null,
            "grid_template_rows": null,
            "height": null,
            "justify_content": null,
            "justify_items": null,
            "left": null,
            "margin": null,
            "max_height": null,
            "max_width": null,
            "min_height": null,
            "min_width": null,
            "object_fit": null,
            "object_position": null,
            "order": null,
            "overflow": null,
            "overflow_x": null,
            "overflow_y": null,
            "padding": null,
            "right": null,
            "top": null,
            "visibility": null,
            "width": null
          }
        },
        "10963fcf6c10409f8c8dabe350822bc1": {
          "model_module": "@jupyter-widgets/controls",
          "model_name": "DescriptionStyleModel",
          "model_module_version": "1.5.0",
          "state": {
            "_model_module": "@jupyter-widgets/controls",
            "_model_module_version": "1.5.0",
            "_model_name": "DescriptionStyleModel",
            "_view_count": null,
            "_view_module": "@jupyter-widgets/base",
            "_view_module_version": "1.2.0",
            "_view_name": "StyleView",
            "description_width": ""
          }
        },
        "bf409a779af547c7b76f70db19363af0": {
          "model_module": "@jupyter-widgets/base",
          "model_name": "LayoutModel",
          "model_module_version": "1.2.0",
          "state": {
            "_model_module": "@jupyter-widgets/base",
            "_model_module_version": "1.2.0",
            "_model_name": "LayoutModel",
            "_view_count": null,
            "_view_module": "@jupyter-widgets/base",
            "_view_module_version": "1.2.0",
            "_view_name": "LayoutView",
            "align_content": null,
            "align_items": null,
            "align_self": null,
            "border": null,
            "bottom": null,
            "display": null,
            "flex": null,
            "flex_flow": null,
            "grid_area": null,
            "grid_auto_columns": null,
            "grid_auto_flow": null,
            "grid_auto_rows": null,
            "grid_column": null,
            "grid_gap": null,
            "grid_row": null,
            "grid_template_areas": null,
            "grid_template_columns": null,
            "grid_template_rows": null,
            "height": null,
            "justify_content": null,
            "justify_items": null,
            "left": null,
            "margin": null,
            "max_height": null,
            "max_width": null,
            "min_height": null,
            "min_width": null,
            "object_fit": null,
            "object_position": null,
            "order": null,
            "overflow": null,
            "overflow_x": null,
            "overflow_y": null,
            "padding": null,
            "right": null,
            "top": null,
            "visibility": null,
            "width": null
          }
        },
        "a6834b5f775e41009e87d333945387fa": {
          "model_module": "@jupyter-widgets/controls",
          "model_name": "ProgressStyleModel",
          "model_module_version": "1.5.0",
          "state": {
            "_model_module": "@jupyter-widgets/controls",
            "_model_module_version": "1.5.0",
            "_model_name": "ProgressStyleModel",
            "_view_count": null,
            "_view_module": "@jupyter-widgets/base",
            "_view_module_version": "1.2.0",
            "_view_name": "StyleView",
            "bar_color": null,
            "description_width": ""
          }
        },
        "3a6def9902304fa5a5f251cce2174dad": {
          "model_module": "@jupyter-widgets/base",
          "model_name": "LayoutModel",
          "model_module_version": "1.2.0",
          "state": {
            "_model_module": "@jupyter-widgets/base",
            "_model_module_version": "1.2.0",
            "_model_name": "LayoutModel",
            "_view_count": null,
            "_view_module": "@jupyter-widgets/base",
            "_view_module_version": "1.2.0",
            "_view_name": "LayoutView",
            "align_content": null,
            "align_items": null,
            "align_self": null,
            "border": null,
            "bottom": null,
            "display": null,
            "flex": null,
            "flex_flow": null,
            "grid_area": null,
            "grid_auto_columns": null,
            "grid_auto_flow": null,
            "grid_auto_rows": null,
            "grid_column": null,
            "grid_gap": null,
            "grid_row": null,
            "grid_template_areas": null,
            "grid_template_columns": null,
            "grid_template_rows": null,
            "height": null,
            "justify_content": null,
            "justify_items": null,
            "left": null,
            "margin": null,
            "max_height": null,
            "max_width": null,
            "min_height": null,
            "min_width": null,
            "object_fit": null,
            "object_position": null,
            "order": null,
            "overflow": null,
            "overflow_x": null,
            "overflow_y": null,
            "padding": null,
            "right": null,
            "top": null,
            "visibility": null,
            "width": null
          }
        },
        "63c4ca1105684120944c5efc40089051": {
          "model_module": "@jupyter-widgets/controls",
          "model_name": "DescriptionStyleModel",
          "model_module_version": "1.5.0",
          "state": {
            "_model_module": "@jupyter-widgets/controls",
            "_model_module_version": "1.5.0",
            "_model_name": "DescriptionStyleModel",
            "_view_count": null,
            "_view_module": "@jupyter-widgets/base",
            "_view_module_version": "1.2.0",
            "_view_name": "StyleView",
            "description_width": ""
          }
        }
      }
    }
  },
  "cells": [
    {
      "cell_type": "markdown",
      "metadata": {
        "id": "view-in-github",
        "colab_type": "text"
      },
      "source": [
        "<a href=\"https://colab.research.google.com/github/ishancoderr/CNNs-Deep-Drive/blob/main/CNNs_001.ipynb\" target=\"_parent\"><img src=\"https://colab.research.google.com/assets/colab-badge.svg\" alt=\"Open In Colab\"/></a>"
      ]
    },
    {
      "cell_type": "markdown",
      "source": [
        "Image covert to array ,Structure will lost. hence image see like string array.But in CNN image pass as 2D matrix.It protects image as it is.\n",
        "\n",
        "**Single Layer fully connected has more power than Single Layer converlution.** \n",
        "\n",
        "\n",
        "\n",
        "If make a kernel manually for the model .It is very difficult to achived manually.It will worlk only for specific task.But computer can easly find what is the best kernal select all posibilities.These kernels act like filters. \n"
      ],
      "metadata": {
        "id": "zHpD57643rJF"
      }
    },
    {
      "cell_type": "markdown",
      "source": [
        "**Converlution Layer**\n",
        "\n",
        "A Layer in which we search for a pattern"
      ],
      "metadata": {
        "id": "uRMShi85pdeM"
      }
    },
    {
      "cell_type": "markdown",
      "source": [
        "**Pooling Layer**\n",
        "\n"
      ],
      "metadata": {
        "id": "0mYKVEBdp1SL"
      }
    },
    {
      "cell_type": "markdown",
      "source": [
        "* Reduces the dimensionaly  \n",
        "* speeds up learning\n",
        "\n"
      ],
      "metadata": {
        "id": "wRmxY0yF-yDL"
      }
    },
    {
      "cell_type": "markdown",
      "source": [
        "eg-max pooling layer\n",
        "\n",
        "image devide 4X4 matrixes .then make choose max pixel within the matrix.\n",
        "that is 2X2 max pooling with Stride 2 "
      ],
      "metadata": {
        "id": "4_S3QbvDA9bb"
      }
    },
    {
      "cell_type": "markdown",
      "source": [
        "**Dence layer**\n",
        "\n",
        "Dance layer is a transformation in every output  is a linear combination inputes\n"
      ],
      "metadata": {
        "id": "dedolDoEsQiA"
      }
    },
    {
      "cell_type": "markdown",
      "source": [
        "# **CNN EXAMPLE WITH MINIST DATASET**"
      ],
      "metadata": {
        "id": "f1QFp3aZs1E3"
      }
    },
    {
      "cell_type": "markdown",
      "source": [
        "## **Data Preprocessing**"
      ],
      "metadata": {
        "id": "Y7VDeWrls_V2"
      }
    },
    {
      "cell_type": "code",
      "source": [
        "import tensorflow as tf\n",
        "import tensorflow_datasets as tfds "
      ],
      "metadata": {
        "id": "YHdzBv0-s0fI"
      },
      "execution_count": 5,
      "outputs": []
    },
    {
      "cell_type": "code",
      "source": [
        "BUFFER_SIZE=70000\n",
        "BATCH_SIZE=128\n",
        "NUM_EPOCHS=20"
      ],
      "metadata": {
        "id": "FKZ28Zik3qg-"
      },
      "execution_count": 6,
      "outputs": []
    },
    {
      "cell_type": "markdown",
      "source": [
        "dataset link-https://www.tensorflow.org/datasets/catalog/mnist"
      ],
      "metadata": {
        "id": "4DegzpO0wZR_"
      }
    },
    {
      "cell_type": "code",
      "source": [
        "mnist_dataset,mnist_info=tfds.load(name='mnist',with_info=True,as_supervised=True)"
      ],
      "metadata": {
        "colab": {
          "base_uri": "https://localhost:8080/",
          "height": 84,
          "referenced_widgets": [
            "651717e4770d49918d75d3df454a4e16",
            "d7a160c4a91d4bd99266a4476373025e",
            "c819e161b7fd4cc984637a4ba6964861",
            "3d15448e2aa84038825ba5027dc46af1",
            "00c31abce70f4ca5978ad20b1716f3d3",
            "63988d0aa24a409eb73d76e4d433258e",
            "10963fcf6c10409f8c8dabe350822bc1",
            "bf409a779af547c7b76f70db19363af0",
            "a6834b5f775e41009e87d333945387fa",
            "3a6def9902304fa5a5f251cce2174dad",
            "63c4ca1105684120944c5efc40089051"
          ]
        },
        "id": "TAIGgyJpwWtp",
        "outputId": "1dd38419-81c9-44b4-98a9-c4ff13788881"
      },
      "execution_count": 7,
      "outputs": [
        {
          "output_type": "stream",
          "name": "stdout",
          "text": [
            "Downloading and preparing dataset 11.06 MiB (download: 11.06 MiB, generated: 21.00 MiB, total: 32.06 MiB) to ~/tensorflow_datasets/mnist/3.0.1...\n"
          ]
        },
        {
          "output_type": "display_data",
          "data": {
            "text/plain": [
              "Dl Completed...:   0%|          | 0/5 [00:00<?, ? file/s]"
            ],
            "application/vnd.jupyter.widget-view+json": {
              "version_major": 2,
              "version_minor": 0,
              "model_id": "651717e4770d49918d75d3df454a4e16"
            }
          },
          "metadata": {}
        },
        {
          "output_type": "stream",
          "name": "stdout",
          "text": [
            "Dataset mnist downloaded and prepared to ~/tensorflow_datasets/mnist/3.0.1. Subsequent calls will reuse this data.\n"
          ]
        }
      ]
    },
    {
      "cell_type": "code",
      "source": [
        "print(mnist_dataset)"
      ],
      "metadata": {
        "colab": {
          "base_uri": "https://localhost:8080/"
        },
        "id": "kmPf32wXhHwv",
        "outputId": "564bccc9-4cb9-462b-a93f-8d27ef6dab85"
      },
      "execution_count": 8,
      "outputs": [
        {
          "output_type": "stream",
          "name": "stdout",
          "text": [
            "{'test': <PrefetchDataset element_spec=(TensorSpec(shape=(28, 28, 1), dtype=tf.uint8, name=None), TensorSpec(shape=(), dtype=tf.int64, name=None))>, 'train': <PrefetchDataset element_spec=(TensorSpec(shape=(28, 28, 1), dtype=tf.uint8, name=None), TensorSpec(shape=(), dtype=tf.int64, name=None))>}\n"
          ]
        }
      ]
    },
    {
      "cell_type": "code",
      "source": [
        "mnist_train,mnist_test= mnist_dataset['train'],mnist_dataset['test']"
      ],
      "metadata": {
        "id": "1ibkvgwm413i"
      },
      "execution_count": 9,
      "outputs": []
    },
    {
      "cell_type": "code",
      "source": [
        "def scale(image,label):\n",
        "  image=tf.cast(image,tf.float32)\n",
        "  image /= 225\n",
        "\n",
        "  return image,label"
      ],
      "metadata": {
        "id": "xB9YY-Lsc5JY"
      },
      "execution_count": 3,
      "outputs": []
    },
    {
      "cell_type": "code",
      "source": [
        "train_and_validation_data = mnist_train.map(scale)\n",
        "print(train_and_validation_data )\n",
        "test_data = mnist_test.map(scale)\n",
        "print(test_data)"
      ],
      "metadata": {
        "colab": {
          "base_uri": "https://localhost:8080/"
        },
        "id": "46tElqdFeASf",
        "outputId": "f7ce3c5b-56e5-4b03-acfe-c2417d418b9a"
      },
      "execution_count": 10,
      "outputs": [
        {
          "output_type": "stream",
          "name": "stdout",
          "text": [
            "<MapDataset element_spec=(TensorSpec(shape=(28, 28, 1), dtype=tf.float32, name=None), TensorSpec(shape=(), dtype=tf.int64, name=None))>\n",
            "<MapDataset element_spec=(TensorSpec(shape=(28, 28, 1), dtype=tf.float32, name=None), TensorSpec(shape=(), dtype=tf.int64, name=None))>\n"
          ]
        }
      ]
    },
    {
      "cell_type": "code",
      "source": [
        "num_validation_samples=0.1*mnist_info.splits['train'].num_examples\n",
        "print(num_validation_samples)\n",
        "num_validation_samples=tf.cast(num_validation_samples,tf.int64)"
      ],
      "metadata": {
        "colab": {
          "base_uri": "https://localhost:8080/"
        },
        "id": "vThwGjVWfMD_",
        "outputId": "0e6bb6d0-2db1-4455-8a87-2c8016df1fa2"
      },
      "execution_count": 11,
      "outputs": [
        {
          "output_type": "stream",
          "name": "stdout",
          "text": [
            "6000.0\n"
          ]
        }
      ]
    },
    {
      "cell_type": "code",
      "source": [
        "num_test_samples = mnist_info.splits['test'].num_examples\n",
        "num_test_samples = tf.cast(num_test_samples,tf.int64)\n",
        "print(num_test_samples)"
      ],
      "metadata": {
        "id": "2EAi-ndMjwnw",
        "outputId": "4a1f0118-57a4-4e7e-b08a-80a069611bc2",
        "colab": {
          "base_uri": "https://localhost:8080/"
        }
      },
      "execution_count": 12,
      "outputs": [
        {
          "output_type": "stream",
          "name": "stdout",
          "text": [
            "tf.Tensor(10000, shape=(), dtype=int64)\n"
          ]
        }
      ]
    },
    {
      "cell_type": "code",
      "source": [
        "train_and_validation_data=train_and_validation_data.shuffle(BUFFER_SIZE)"
      ],
      "metadata": {
        "id": "LPu8E7skkULZ"
      },
      "execution_count": 13,
      "outputs": []
    },
    {
      "cell_type": "code",
      "source": [
        "train_data = train_and_validation_data.skip(num_validation_samples)\n",
        "validation_data =train_and_validation_data.take(num_validation_samples)"
      ],
      "metadata": {
        "id": "Ritv99NVk5VJ"
      },
      "execution_count": 14,
      "outputs": []
    },
    {
      "cell_type": "code",
      "source": [
        "train_data =train_data.batch(BATCH_SIZE)\n",
        "validation_data = validation_data.batch(num_validation_samples)\n",
        "test_data = test_data.batch(num_test_samples)"
      ],
      "metadata": {
        "id": "PIdkH091lX5R"
      },
      "execution_count": 15,
      "outputs": []
    },
    {
      "cell_type": "markdown",
      "source": [
        "# **Creating the model and training it**"
      ],
      "metadata": {
        "id": "gEdRbObCudWq"
      }
    },
    {
      "cell_type": "code",
      "source": [
        "model = tf.keras.Sequential([\n",
        "    tf.keras.layers.Conv2D(50,5,activation='relu',input_shape=(28,28,1)),\n",
        "    tf.keras.layers.MaxPooling2D(pool_size=(2,2)),\n",
        "    tf.keras.layers.Conv2D(50,3,activation='relu'),\n",
        "    tf.keras.layers.MaxPool2D(pool_size=(2,2)),\n",
        "    tf.keras.layers.Flatten(),\n",
        "    tf.keras.layers.Dense(10)\n",
        "\n",
        "])"
      ],
      "metadata": {
        "id": "RLyXlUblubwB"
      },
      "execution_count": 16,
      "outputs": []
    },
    {
      "cell_type": "code",
      "source": [
        "model.summary(line_length=75)"
      ],
      "metadata": {
        "id": "iNgabNzMuWJy",
        "outputId": "a1f015bb-538f-4fb5-99e8-cf45264b4641",
        "colab": {
          "base_uri": "https://localhost:8080/"
        }
      },
      "execution_count": 19,
      "outputs": [
        {
          "output_type": "stream",
          "name": "stdout",
          "text": [
            "Model: \"sequential\"\n",
            "___________________________________________________________________________\n",
            " Layer (type)                    Output Shape                  Param #     \n",
            "===========================================================================\n",
            " conv2d (Conv2D)                 (None, 24, 24, 50)            1300        \n",
            "                                                                           \n",
            " max_pooling2d (MaxPooling2D)    (None, 12, 12, 50)            0           \n",
            "                                                                           \n",
            " conv2d_1 (Conv2D)               (None, 10, 10, 50)            22550       \n",
            "                                                                           \n",
            " max_pooling2d_1 (MaxPooling2D)  (None, 5, 5, 50)              0           \n",
            "                                                                           \n",
            " flatten (Flatten)               (None, 1250)                  0           \n",
            "                                                                           \n",
            " dense (Dense)                   (None, 10)                    12510       \n",
            "                                                                           \n",
            "===========================================================================\n",
            "Total params: 36,360\n",
            "Trainable params: 36,360\n",
            "Non-trainable params: 0\n",
            "___________________________________________________________________________\n"
          ]
        }
      ]
    },
    {
      "cell_type": "code",
      "source": [],
      "metadata": {
        "id": "KQprIWAfo9Pv"
      },
      "execution_count": null,
      "outputs": []
    }
  ]
}