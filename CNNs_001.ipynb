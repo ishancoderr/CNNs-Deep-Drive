{
  "nbformat": 4,
  "nbformat_minor": 0,
  "metadata": {
    "colab": {
      "provenance": [],
      "authorship_tag": "ABX9TyON5BVxOLsnV7UUFxHZLv5C",
      "include_colab_link": true
    },
    "kernelspec": {
      "name": "python3",
      "display_name": "Python 3"
    },
    "language_info": {
      "name": "python"
    },
    "widgets": {
      "application/vnd.jupyter.widget-state+json": {
        "0f0caf26795a4e5aa96afdf90b45e333": {
          "model_module": "@jupyter-widgets/controls",
          "model_name": "HBoxModel",
          "model_module_version": "1.5.0",
          "state": {
            "_dom_classes": [],
            "_model_module": "@jupyter-widgets/controls",
            "_model_module_version": "1.5.0",
            "_model_name": "HBoxModel",
            "_view_count": null,
            "_view_module": "@jupyter-widgets/controls",
            "_view_module_version": "1.5.0",
            "_view_name": "HBoxView",
            "box_style": "",
            "children": [
              "IPY_MODEL_20e4aea150c843b39a6f2b4e571ac984",
              "IPY_MODEL_682d775dd68a43e1b55577c313a5cb82",
              "IPY_MODEL_d812bbdd9e3d4b9d90ecbf3c63269f08"
            ],
            "layout": "IPY_MODEL_34baa9b89a2b4dda973700a09b03b790"
          }
        },
        "20e4aea150c843b39a6f2b4e571ac984": {
          "model_module": "@jupyter-widgets/controls",
          "model_name": "HTMLModel",
          "model_module_version": "1.5.0",
          "state": {
            "_dom_classes": [],
            "_model_module": "@jupyter-widgets/controls",
            "_model_module_version": "1.5.0",
            "_model_name": "HTMLModel",
            "_view_count": null,
            "_view_module": "@jupyter-widgets/controls",
            "_view_module_version": "1.5.0",
            "_view_name": "HTMLView",
            "description": "",
            "description_tooltip": null,
            "layout": "IPY_MODEL_759f054263f046a1a35a5e5002e498bb",
            "placeholder": "​",
            "style": "IPY_MODEL_81c53f9ab7424b02b3c806a2d58db0eb",
            "value": "Dl Completed...: 100%"
          }
        },
        "682d775dd68a43e1b55577c313a5cb82": {
          "model_module": "@jupyter-widgets/controls",
          "model_name": "FloatProgressModel",
          "model_module_version": "1.5.0",
          "state": {
            "_dom_classes": [],
            "_model_module": "@jupyter-widgets/controls",
            "_model_module_version": "1.5.0",
            "_model_name": "FloatProgressModel",
            "_view_count": null,
            "_view_module": "@jupyter-widgets/controls",
            "_view_module_version": "1.5.0",
            "_view_name": "ProgressView",
            "bar_style": "success",
            "description": "",
            "description_tooltip": null,
            "layout": "IPY_MODEL_f4c2ea179f9a4c918fa4ce91972c96d1",
            "max": 5,
            "min": 0,
            "orientation": "horizontal",
            "style": "IPY_MODEL_65e41060c51f44c4b79eeeb70ab4c29c",
            "value": 5
          }
        },
        "d812bbdd9e3d4b9d90ecbf3c63269f08": {
          "model_module": "@jupyter-widgets/controls",
          "model_name": "HTMLModel",
          "model_module_version": "1.5.0",
          "state": {
            "_dom_classes": [],
            "_model_module": "@jupyter-widgets/controls",
            "_model_module_version": "1.5.0",
            "_model_name": "HTMLModel",
            "_view_count": null,
            "_view_module": "@jupyter-widgets/controls",
            "_view_module_version": "1.5.0",
            "_view_name": "HTMLView",
            "description": "",
            "description_tooltip": null,
            "layout": "IPY_MODEL_c452fabcd6394c42a9e62c0f3f2d5e4c",
            "placeholder": "​",
            "style": "IPY_MODEL_395b9410b3ad46a7ad0abab37a396298",
            "value": " 5/5 [00:00&lt;00:00, 13.38 file/s]"
          }
        },
        "34baa9b89a2b4dda973700a09b03b790": {
          "model_module": "@jupyter-widgets/base",
          "model_name": "LayoutModel",
          "model_module_version": "1.2.0",
          "state": {
            "_model_module": "@jupyter-widgets/base",
            "_model_module_version": "1.2.0",
            "_model_name": "LayoutModel",
            "_view_count": null,
            "_view_module": "@jupyter-widgets/base",
            "_view_module_version": "1.2.0",
            "_view_name": "LayoutView",
            "align_content": null,
            "align_items": null,
            "align_self": null,
            "border": null,
            "bottom": null,
            "display": null,
            "flex": null,
            "flex_flow": null,
            "grid_area": null,
            "grid_auto_columns": null,
            "grid_auto_flow": null,
            "grid_auto_rows": null,
            "grid_column": null,
            "grid_gap": null,
            "grid_row": null,
            "grid_template_areas": null,
            "grid_template_columns": null,
            "grid_template_rows": null,
            "height": null,
            "justify_content": null,
            "justify_items": null,
            "left": null,
            "margin": null,
            "max_height": null,
            "max_width": null,
            "min_height": null,
            "min_width": null,
            "object_fit": null,
            "object_position": null,
            "order": null,
            "overflow": null,
            "overflow_x": null,
            "overflow_y": null,
            "padding": null,
            "right": null,
            "top": null,
            "visibility": null,
            "width": null
          }
        },
        "759f054263f046a1a35a5e5002e498bb": {
          "model_module": "@jupyter-widgets/base",
          "model_name": "LayoutModel",
          "model_module_version": "1.2.0",
          "state": {
            "_model_module": "@jupyter-widgets/base",
            "_model_module_version": "1.2.0",
            "_model_name": "LayoutModel",
            "_view_count": null,
            "_view_module": "@jupyter-widgets/base",
            "_view_module_version": "1.2.0",
            "_view_name": "LayoutView",
            "align_content": null,
            "align_items": null,
            "align_self": null,
            "border": null,
            "bottom": null,
            "display": null,
            "flex": null,
            "flex_flow": null,
            "grid_area": null,
            "grid_auto_columns": null,
            "grid_auto_flow": null,
            "grid_auto_rows": null,
            "grid_column": null,
            "grid_gap": null,
            "grid_row": null,
            "grid_template_areas": null,
            "grid_template_columns": null,
            "grid_template_rows": null,
            "height": null,
            "justify_content": null,
            "justify_items": null,
            "left": null,
            "margin": null,
            "max_height": null,
            "max_width": null,
            "min_height": null,
            "min_width": null,
            "object_fit": null,
            "object_position": null,
            "order": null,
            "overflow": null,
            "overflow_x": null,
            "overflow_y": null,
            "padding": null,
            "right": null,
            "top": null,
            "visibility": null,
            "width": null
          }
        },
        "81c53f9ab7424b02b3c806a2d58db0eb": {
          "model_module": "@jupyter-widgets/controls",
          "model_name": "DescriptionStyleModel",
          "model_module_version": "1.5.0",
          "state": {
            "_model_module": "@jupyter-widgets/controls",
            "_model_module_version": "1.5.0",
            "_model_name": "DescriptionStyleModel",
            "_view_count": null,
            "_view_module": "@jupyter-widgets/base",
            "_view_module_version": "1.2.0",
            "_view_name": "StyleView",
            "description_width": ""
          }
        },
        "f4c2ea179f9a4c918fa4ce91972c96d1": {
          "model_module": "@jupyter-widgets/base",
          "model_name": "LayoutModel",
          "model_module_version": "1.2.0",
          "state": {
            "_model_module": "@jupyter-widgets/base",
            "_model_module_version": "1.2.0",
            "_model_name": "LayoutModel",
            "_view_count": null,
            "_view_module": "@jupyter-widgets/base",
            "_view_module_version": "1.2.0",
            "_view_name": "LayoutView",
            "align_content": null,
            "align_items": null,
            "align_self": null,
            "border": null,
            "bottom": null,
            "display": null,
            "flex": null,
            "flex_flow": null,
            "grid_area": null,
            "grid_auto_columns": null,
            "grid_auto_flow": null,
            "grid_auto_rows": null,
            "grid_column": null,
            "grid_gap": null,
            "grid_row": null,
            "grid_template_areas": null,
            "grid_template_columns": null,
            "grid_template_rows": null,
            "height": null,
            "justify_content": null,
            "justify_items": null,
            "left": null,
            "margin": null,
            "max_height": null,
            "max_width": null,
            "min_height": null,
            "min_width": null,
            "object_fit": null,
            "object_position": null,
            "order": null,
            "overflow": null,
            "overflow_x": null,
            "overflow_y": null,
            "padding": null,
            "right": null,
            "top": null,
            "visibility": null,
            "width": null
          }
        },
        "65e41060c51f44c4b79eeeb70ab4c29c": {
          "model_module": "@jupyter-widgets/controls",
          "model_name": "ProgressStyleModel",
          "model_module_version": "1.5.0",
          "state": {
            "_model_module": "@jupyter-widgets/controls",
            "_model_module_version": "1.5.0",
            "_model_name": "ProgressStyleModel",
            "_view_count": null,
            "_view_module": "@jupyter-widgets/base",
            "_view_module_version": "1.2.0",
            "_view_name": "StyleView",
            "bar_color": null,
            "description_width": ""
          }
        },
        "c452fabcd6394c42a9e62c0f3f2d5e4c": {
          "model_module": "@jupyter-widgets/base",
          "model_name": "LayoutModel",
          "model_module_version": "1.2.0",
          "state": {
            "_model_module": "@jupyter-widgets/base",
            "_model_module_version": "1.2.0",
            "_model_name": "LayoutModel",
            "_view_count": null,
            "_view_module": "@jupyter-widgets/base",
            "_view_module_version": "1.2.0",
            "_view_name": "LayoutView",
            "align_content": null,
            "align_items": null,
            "align_self": null,
            "border": null,
            "bottom": null,
            "display": null,
            "flex": null,
            "flex_flow": null,
            "grid_area": null,
            "grid_auto_columns": null,
            "grid_auto_flow": null,
            "grid_auto_rows": null,
            "grid_column": null,
            "grid_gap": null,
            "grid_row": null,
            "grid_template_areas": null,
            "grid_template_columns": null,
            "grid_template_rows": null,
            "height": null,
            "justify_content": null,
            "justify_items": null,
            "left": null,
            "margin": null,
            "max_height": null,
            "max_width": null,
            "min_height": null,
            "min_width": null,
            "object_fit": null,
            "object_position": null,
            "order": null,
            "overflow": null,
            "overflow_x": null,
            "overflow_y": null,
            "padding": null,
            "right": null,
            "top": null,
            "visibility": null,
            "width": null
          }
        },
        "395b9410b3ad46a7ad0abab37a396298": {
          "model_module": "@jupyter-widgets/controls",
          "model_name": "DescriptionStyleModel",
          "model_module_version": "1.5.0",
          "state": {
            "_model_module": "@jupyter-widgets/controls",
            "_model_module_version": "1.5.0",
            "_model_name": "DescriptionStyleModel",
            "_view_count": null,
            "_view_module": "@jupyter-widgets/base",
            "_view_module_version": "1.2.0",
            "_view_name": "StyleView",
            "description_width": ""
          }
        }
      }
    }
  },
  "cells": [
    {
      "cell_type": "markdown",
      "metadata": {
        "id": "view-in-github",
        "colab_type": "text"
      },
      "source": [
        "<a href=\"https://colab.research.google.com/github/ishancoderr/CNNs-Deep-Drive/blob/main/CNNs_001.ipynb\" target=\"_parent\"><img src=\"https://colab.research.google.com/assets/colab-badge.svg\" alt=\"Open In Colab\"/></a>"
      ]
    },
    {
      "cell_type": "markdown",
      "source": [
        "Image covert to array ,Structure will lost. hence image see like string array.But in CNN image pass as 2D matrix.It protects image as it is.\n",
        "\n",
        "**Single Layer fully connected has more power than Single Layer converlution.** \n",
        "\n",
        "\n",
        "\n",
        "If make a kernel manually for the model .It is very difficult to achived manually.It will worlk only for specific task.But computer can easly find what is the best kernal select all posibilities.These kernels act like filters. \n"
      ],
      "metadata": {
        "id": "zHpD57643rJF"
      }
    },
    {
      "cell_type": "markdown",
      "source": [
        "**Converlution Layer**\n",
        "\n",
        "A Layer in which we search for a pattern"
      ],
      "metadata": {
        "id": "uRMShi85pdeM"
      }
    },
    {
      "cell_type": "markdown",
      "source": [
        "**Pooling Layer**\n",
        "\n"
      ],
      "metadata": {
        "id": "0mYKVEBdp1SL"
      }
    },
    {
      "cell_type": "markdown",
      "source": [
        "* Reduces the dimensionaly  \n",
        "* speeds up learning\n",
        "\n"
      ],
      "metadata": {
        "id": "wRmxY0yF-yDL"
      }
    },
    {
      "cell_type": "markdown",
      "source": [
        "eg-max pooling layer\n",
        "\n",
        "image devide 4X4 matrixes .then make choose max pixel within the matrix.\n",
        "that is 2X2 max pooling with Stride 2 "
      ],
      "metadata": {
        "id": "4_S3QbvDA9bb"
      }
    },
    {
      "cell_type": "markdown",
      "source": [
        "**Dence layer**\n",
        "\n",
        "Dance layer is a transformation in every output  is a linear combination inputes\n"
      ],
      "metadata": {
        "id": "dedolDoEsQiA"
      }
    },
    {
      "cell_type": "markdown",
      "source": [
        "# **CNN EXAMPLE WITH MINIST DATASET**"
      ],
      "metadata": {
        "id": "f1QFp3aZs1E3"
      }
    },
    {
      "cell_type": "markdown",
      "source": [
        "## **Data Preprocessing**"
      ],
      "metadata": {
        "id": "Y7VDeWrls_V2"
      }
    },
    {
      "cell_type": "code",
      "source": [
        "import tensorflow as tf\n",
        "import tensorflow_datasets as tfds "
      ],
      "metadata": {
        "id": "YHdzBv0-s0fI"
      },
      "execution_count": 1,
      "outputs": []
    },
    {
      "cell_type": "code",
      "source": [
        "BUFFER_SIZE=70000\n",
        "BATCH_SIZE=128\n",
        "NUM_EPOCHS=20"
      ],
      "metadata": {
        "id": "FKZ28Zik3qg-"
      },
      "execution_count": 2,
      "outputs": []
    },
    {
      "cell_type": "markdown",
      "source": [
        "dataset link-https://www.tensorflow.org/datasets/catalog/mnist"
      ],
      "metadata": {
        "id": "4DegzpO0wZR_"
      }
    },
    {
      "cell_type": "code",
      "source": [
        "mnist_dataset,mnist_info=tfds.load(name='mnist',with_info=True,as_supervised=True)"
      ],
      "metadata": {
        "colab": {
          "base_uri": "https://localhost:8080/",
          "height": 84,
          "referenced_widgets": [
            "0f0caf26795a4e5aa96afdf90b45e333",
            "20e4aea150c843b39a6f2b4e571ac984",
            "682d775dd68a43e1b55577c313a5cb82",
            "d812bbdd9e3d4b9d90ecbf3c63269f08",
            "34baa9b89a2b4dda973700a09b03b790",
            "759f054263f046a1a35a5e5002e498bb",
            "81c53f9ab7424b02b3c806a2d58db0eb",
            "f4c2ea179f9a4c918fa4ce91972c96d1",
            "65e41060c51f44c4b79eeeb70ab4c29c",
            "c452fabcd6394c42a9e62c0f3f2d5e4c",
            "395b9410b3ad46a7ad0abab37a396298"
          ]
        },
        "id": "TAIGgyJpwWtp",
        "outputId": "31d9a4a7-6e9f-474a-84d0-6f58f5391cc2"
      },
      "execution_count": 3,
      "outputs": [
        {
          "output_type": "stream",
          "name": "stdout",
          "text": [
            "Downloading and preparing dataset 11.06 MiB (download: 11.06 MiB, generated: 21.00 MiB, total: 32.06 MiB) to ~/tensorflow_datasets/mnist/3.0.1...\n"
          ]
        },
        {
          "output_type": "display_data",
          "data": {
            "text/plain": [
              "Dl Completed...:   0%|          | 0/5 [00:00<?, ? file/s]"
            ],
            "application/vnd.jupyter.widget-view+json": {
              "version_major": 2,
              "version_minor": 0,
              "model_id": "0f0caf26795a4e5aa96afdf90b45e333"
            }
          },
          "metadata": {}
        },
        {
          "output_type": "stream",
          "name": "stdout",
          "text": [
            "Dataset mnist downloaded and prepared to ~/tensorflow_datasets/mnist/3.0.1. Subsequent calls will reuse this data.\n"
          ]
        }
      ]
    },
    {
      "cell_type": "code",
      "source": [
        "print(mnist_dataset)"
      ],
      "metadata": {
        "colab": {
          "base_uri": "https://localhost:8080/"
        },
        "id": "kmPf32wXhHwv",
        "outputId": "f3e2920d-5923-4ca2-e8d8-f8e567aee7eb"
      },
      "execution_count": 12,
      "outputs": [
        {
          "output_type": "stream",
          "name": "stdout",
          "text": [
            "{'test': <PrefetchDataset element_spec=(TensorSpec(shape=(28, 28, 1), dtype=tf.uint8, name=None), TensorSpec(shape=(), dtype=tf.int64, name=None))>, 'train': <PrefetchDataset element_spec=(TensorSpec(shape=(28, 28, 1), dtype=tf.uint8, name=None), TensorSpec(shape=(), dtype=tf.int64, name=None))>}\n"
          ]
        }
      ]
    },
    {
      "cell_type": "code",
      "source": [
        "mnist_train,mnist_test= mnist_dataset['train'],mnist_dataset['test']"
      ],
      "metadata": {
        "id": "1ibkvgwm413i"
      },
      "execution_count": 11,
      "outputs": []
    },
    {
      "cell_type": "code",
      "source": [
        "def scale(image,label):\n",
        "  image=tf.cast(image,tf.float32)\n",
        "  image /= 225\n",
        "\n",
        "  return image,label"
      ],
      "metadata": {
        "id": "xB9YY-Lsc5JY"
      },
      "execution_count": 13,
      "outputs": []
    },
    {
      "cell_type": "code",
      "source": [
        "train_and_validation_data = mnist_train.map(scale)\n",
        "print(train_and_validation_data )\n",
        "test_data = mnist_test.map(scale)\n",
        "print(test_data)"
      ],
      "metadata": {
        "colab": {
          "base_uri": "https://localhost:8080/"
        },
        "id": "46tElqdFeASf",
        "outputId": "faa7c9b2-0995-4234-be07-7649d903478a"
      },
      "execution_count": 26,
      "outputs": [
        {
          "output_type": "stream",
          "name": "stdout",
          "text": [
            "<MapDataset element_spec=(TensorSpec(shape=(28, 28, 1), dtype=tf.float32, name=None), TensorSpec(shape=(), dtype=tf.int64, name=None))>\n",
            "<MapDataset element_spec=(TensorSpec(shape=(28, 28, 1), dtype=tf.float32, name=None), TensorSpec(shape=(), dtype=tf.int64, name=None))>\n"
          ]
        }
      ]
    },
    {
      "cell_type": "code",
      "source": [
        "num_validation_samples=0.1*mnist_info.splits['train'].num_examples\n",
        "print(num_validation_samples)\n",
        "num_validation_samples=tf.cast(num_validation_samples,tf.int64)"
      ],
      "metadata": {
        "colab": {
          "base_uri": "https://localhost:8080/"
        },
        "id": "vThwGjVWfMD_",
        "outputId": "54f1bc15-3618-4d74-890c-c332777c6eda"
      },
      "execution_count": 24,
      "outputs": [
        {
          "output_type": "stream",
          "name": "stdout",
          "text": [
            "6000.0\n"
          ]
        }
      ]
    },
    {
      "cell_type": "code",
      "source": [
        "num_test_samples = mnist_info.splits['test'].num_examples\n",
        "num_test_samples = tf.cast(num_test_samples,tf.int64)\n",
        "print(num_test_samples)"
      ],
      "metadata": {
        "id": "2EAi-ndMjwnw",
        "outputId": "6934388b-d84c-41a0-e35c-e0596759f3b2",
        "colab": {
          "base_uri": "https://localhost:8080/"
        }
      },
      "execution_count": 27,
      "outputs": [
        {
          "output_type": "stream",
          "name": "stdout",
          "text": [
            "tf.Tensor(10000, shape=(), dtype=int64)\n"
          ]
        }
      ]
    },
    {
      "cell_type": "code",
      "source": [
        "train_and_validation_data=train_and_validation_data.shuffle(BUFFER_SIZE)"
      ],
      "metadata": {
        "id": "LPu8E7skkULZ"
      },
      "execution_count": 17,
      "outputs": []
    },
    {
      "cell_type": "code",
      "source": [
        "train_data = train_and_validation_data.skip(num_validation_samples)\n",
        "validation_data =train_and_validation_data.take(num_validation_samples)"
      ],
      "metadata": {
        "id": "Ritv99NVk5VJ"
      },
      "execution_count": 18,
      "outputs": []
    },
    {
      "cell_type": "code",
      "source": [
        "train_data =train_data.batch(BATCH_SIZE)\n",
        "validation_data = validation_data.batch(num_validation_samples)\n",
        "test_data = test_data.batch(num_test_samples)"
      ],
      "metadata": {
        "id": "PIdkH091lX5R"
      },
      "execution_count": 21,
      "outputs": []
    },
    {
      "cell_type": "markdown",
      "source": [
        "# **Creating the model and training it**"
      ],
      "metadata": {
        "id": "gEdRbObCudWq"
      }
    },
    {
      "cell_type": "code",
      "source": [
        "model = tf.keras.Sequential([\n",
        "    tf.keras.layers.Conv2D(50,5,activation='relu',input_shape=(28,28,1)),\n",
        "    tf.keras.layers.MaxPooling2D(pool_size=(2,2)),\n",
        "    tf.keras.layers.Conv2D(50,3,activation='relu'),\n",
        "    tf.keras.layers.MaxPool2D(pool_size=(2,2)),\n",
        "    tf.keras.layers.Flatten(),\n",
        "    tf.keras.layers.Dense(10)\n",
        "\n",
        "])"
      ],
      "metadata": {
        "id": "RLyXlUblubwB"
      },
      "execution_count": 33,
      "outputs": []
    },
    {
      "cell_type": "code",
      "source": [],
      "metadata": {
        "id": "iNgabNzMuWJy"
      },
      "execution_count": null,
      "outputs": []
    }
  ]
}